{
 "cells": [
  {
   "cell_type": "code",
   "execution_count": 35,
   "source": [
    "import pandas as pd\n",
    "import numpy as np\n",
    "import matplotlib.pyplot as plt\n",
    "import seaborn as sns \n",
    "from scipy import stats\n",
    "\n"
   ],
   "outputs": [],
   "metadata": {}
  },
  {
   "cell_type": "code",
   "execution_count": 36,
   "source": [
    "!pip3 install scikits.statsmodels"
   ],
   "outputs": [
    {
     "output_type": "stream",
     "name": "stdout",
     "text": [
      "Requirement already satisfied: scikits.statsmodels in /usr/local/anaconda3/lib/python3.8/site-packages (0.2.0)\n",
      "Requirement already satisfied: numpy in /usr/local/anaconda3/lib/python3.8/site-packages (from scikits.statsmodels) (1.21.2)\n"
     ]
    }
   ],
   "metadata": {}
  },
  {
   "cell_type": "code",
   "execution_count": 37,
   "source": [
    "!pip install git+https://github.com/statsmodels/statsmodels"
   ],
   "outputs": [
    {
     "output_type": "stream",
     "name": "stdout",
     "text": [
      "Collecting git+https://github.com/statsmodels/statsmodels\n",
      "  Cloning https://github.com/statsmodels/statsmodels to /private/var/folders/91/x1jkjm3549s21y3h3k_k56q80000gn/T/pip-req-build-mlndfm7j\n",
      "  Running command git clone -q https://github.com/statsmodels/statsmodels /private/var/folders/91/x1jkjm3549s21y3h3k_k56q80000gn/T/pip-req-build-mlndfm7j\n",
      "  Installing build dependencies ... \u001b[?25ldone\n",
      "\u001b[?25h  Getting requirements to build wheel ... \u001b[?25l|"
     ]
    }
   ],
   "metadata": {}
  },
  {
   "cell_type": "code",
   "execution_count": null,
   "source": [
    "from sklearn.model_selection import train_test_split\n",
    "from statsmodels.formula.api import ols\n",
    "\n",
    "#qqplot, 회귀분석의 상수항 추가\n",
    "from statsmodels.api import qqplot, add_constant\n",
    "\n",
    "#선형 모델 formula(y~X1+x2+...)\n",
    "import statsmodels.formula.api as smf\n",
    "\n",
    "#평가함수\n",
    "from statsmodels.tools.eval_measures import rmse\n",
    "#결정계수 평가지표\n",
    "from sklearn.metrics import r2_score\n",
    "from statsmodels.api.status.outliers_influence import variance_inflation_factor\n",
    "\n",
    "\n",
    "\n",
    "\n"
   ],
   "outputs": [
    {
     "output_type": "error",
     "ename": "SyntaxError",
     "evalue": "Missing parentheses in call to 'print'. Did you mean print(\"Running unit tests and doctests for %s\" % self.package_name)? (__init__.py, line 46)",
     "traceback": [
      "Traceback \u001b[0;36m(most recent call last)\u001b[0m:\n",
      "  File \u001b[1;32m\"/usr/local/anaconda3/lib/python3.8/site-packages/IPython/core/interactiveshell.py\"\u001b[0m, line \u001b[1;32m3437\u001b[0m, in \u001b[1;35mrun_code\u001b[0m\n    exec(code_obj, self.user_global_ns, self.user_ns)\n",
      "\u001b[0;36m  File \u001b[0;32m\"<ipython-input-33-e92e80396fe5>\"\u001b[0;36m, line \u001b[0;32m16\u001b[0;36m, in \u001b[0;35m<module>\u001b[0;36m\u001b[0m\n\u001b[0;31m    from scikits.statsmodels.api.status.outliers_influence import variance_inflation_factor\u001b[0m\n",
      "\u001b[0;36m  File \u001b[0;32m\"/usr/local/anaconda3/lib/python3.8/site-packages/scikits/statsmodels/__init__.py\"\u001b[0;36m, line \u001b[0;32m46\u001b[0m\n\u001b[0;31m    print \"Running unit tests and doctests for %s\" % self.package_name\u001b[0m\n\u001b[0m          ^\u001b[0m\n\u001b[0;31mSyntaxError\u001b[0m\u001b[0;31m:\u001b[0m Missing parentheses in call to 'print'. Did you mean print(\"Running unit tests and doctests for %s\" % self.package_name)?\n"
     ]
    }
   ],
   "metadata": {}
  },
  {
   "cell_type": "code",
   "execution_count": null,
   "source": [
    "import matplotlib\n",
    "# 한글설치 (윈도우 버전)\n",
    "matplotlib.rc('font', family = 'AppleGothic')\n",
    "# 음수 표시\n",
    "matplotlib.rc('axes', unicode_minus=False)\n",
    "# 실행결과 경고메시지 출력 제외\n",
    "import warnings\n",
    "\n",
    "warnings.filterwarnings('ignore')\n"
   ],
   "outputs": [],
   "metadata": {}
  }
 ],
 "metadata": {
  "kernelspec": {
   "name": "python3",
   "display_name": "Python 3.8.8 64-bit ('base': conda)"
  },
  "language_info": {
   "codemirror_mode": {
    "name": "ipython",
    "version": 3
   },
   "file_extension": ".py",
   "mimetype": "text/x-python",
   "name": "python",
   "nbconvert_exporter": "python",
   "pygments_lexer": "ipython3",
   "version": "3.8.8"
  },
  "interpreter": {
   "hash": "e134e05457d34029b6460cd73bbf1ed73f339b5b6d98c95be70b69eba114fe95"
  }
 },
 "nbformat": 4,
 "nbformat_minor": 5
}